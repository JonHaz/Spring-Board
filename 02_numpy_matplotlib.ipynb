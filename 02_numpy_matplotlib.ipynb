m = 5
c = -1
x = [0, 1, 2, 3, 4, 5, 6]

import numpy as np

X = np.array(x)
y = m*X + c

import matplotlib.pyplot as plt
plt.plot(x, Y, 'o', color = 'black')
